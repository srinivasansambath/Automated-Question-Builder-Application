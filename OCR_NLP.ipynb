{
  "cells": [
    {
      "cell_type": "markdown",
      "metadata": {
        "id": "PPoLncQVvsvX"
      },
      "source": [
        "###BASE"
      ]
    },
    {
      "cell_type": "code",
      "execution_count": null,
      "metadata": {
        "id": "aweZgxXBDsOQ"
      },
      "outputs": [],
      "source": [
        "#NLP\n",
        "!pip install -U transformers==3.0.0\n",
        "!python -m nltk.downloader punkt\n",
        "\n",
        "%cd question_generation\n",
        "#OCR\n",
        "import cv2\n",
        "import numpy as np\n",
        "import requests\n",
        "import io\n",
        "#import pdfplumber\n",
        "import json\n",
        "#import pdfplumber\n",
        "#import PyPDF2\n",
        "from pipelines import pipeline\n",
        "nlp = pipeline(\"question-generation\")\n",
        "nlp = pipeline(\"question-generation\", model=\"valhalla/t5-base-qg-hl\")\n",
        "\n",
        "nlp2 = pipeline(\"multitask-qa-qg\")\n",
        "nlp2 = pipeline(\"multitask-qa-qg\", model=\"valhalla/t5-base-qa-qg-hl\")\n",
        "\n",
        "nlp3 = pipeline(\"e2e-qg\")\n",
        "nlp3 = pipeline(\"e2e-qg\", model=\"valhalla/t5-base-e2e-qg\")"
      ]
    },
    {
      "cell_type": "markdown",
      "metadata": {
        "id": "Y7kuKwkivxXd"
      },
      "source": [
        "###OCR"
      ]
    },
    {
      "cell_type": "code",
      "execution_count": null,
      "metadata": {
        "id": "4FARi6xuQ4IZ"
      },
      "outputs": [],
      "source": [
        "img = cv2.imread(\"/content/image.png\")\n",
        "height, width, _ = img.shape\n",
        "\n",
        "roi = img\n",
        "\n",
        "url_api = \"https://api.ocr.space/parse/image\"\n",
        "_, compressedimage = cv2.imencode(\".png\", roi, [1, 90])\n",
        "file_bytes = io.BytesIO(compressedimage)\n",
        "\n",
        "result = requests.post(url_api,\n",
        "              files = {\"screenshot.png\": file_bytes},\n",
        "              data = {\"apikey\": \"helloworld\",\n",
        "                      \"language\": \"eng\"})\n",
        "result = result.content.decode()\n",
        "result = json.loads(result)"
      ]
    },
    {
      "cell_type": "code",
      "execution_count": null,
      "metadata": {
        "id": "QFldiKn8EIp5"
      },
      "outputs": [],
      "source": [
        "parsed_results = result.get(\"ParsedResults\")[0]\n",
        "text1 = parsed_results.get(\"ParsedText\")\n",
        "print(text1)"
      ]
    },
    {
      "cell_type": "markdown",
      "metadata": {
        "id": "HzZO-he2v1GO"
      },
      "source": [
        "###NLP"
      ]
    },
    {
      "cell_type": "markdown",
      "metadata": {
        "id": "MvBFbCVGELuW"
      },
      "source": [
        "## Single task QA"
      ]
    },
    {
      "cell_type": "code",
      "source": [
        "b=nlp(text1)\n",
        "b"
      ],
      "metadata": {
        "id": "lKW0yTd-7ekg"
      },
      "execution_count": null,
      "outputs": []
    },
    {
      "cell_type": "code",
      "execution_count": null,
      "metadata": {
        "id": "DsNjFdBKqG6o"
      },
      "outputs": [],
      "source": [
        "a=nlp(text1)\n",
        "for i in range(len(a)):\n",
        "  print(\"Question:\",a[i]['question'])\n",
        "  print(\"Answer:\",a[i]['answer'])"
      ]
    },
    {
      "cell_type": "markdown",
      "metadata": {
        "id": "CNBlsV_eX9mm"
      },
      "source": [
        "### End-to-End QG"
      ]
    },
    {
      "cell_type": "code",
      "execution_count": null,
      "metadata": {
        "id": "in843mMP1E4q"
      },
      "outputs": [],
      "source": [
        "nlp3(text1)"
      ]
    },
    {
      "cell_type": "markdown",
      "metadata": {
        "id": "gEk-EU9UWaBr"
      },
      "source": [
        "### Multitask QA-QG"
      ]
    },
    {
      "cell_type": "markdown",
      "metadata": {
        "id": "IwCA0sjtWldK"
      },
      "source": [
        "#### QG"
      ]
    },
    {
      "cell_type": "code",
      "execution_count": null,
      "metadata": {
        "id": "1Q89FhL1WldS"
      },
      "outputs": [],
      "source": [
        "nlp2(text1)"
      ]
    },
    {
      "cell_type": "markdown",
      "metadata": {
        "id": "qh46cnicWld1"
      },
      "source": [
        "#### QA"
      ]
    },
    {
      "cell_type": "code",
      "execution_count": null,
      "metadata": {
        "id": "67nbW-dgWld2"
      },
      "outputs": [],
      "source": [
        "nlp2({\n",
        "  \"question\": \"What does a magician create ?\",\n",
        "  \"context\": text1\n",
        "})"
      ]
    },
    {
      "cell_type": "markdown",
      "source": [
        "PDF EXTRACT"
      ],
      "metadata": {
        "id": "Nuu4kqJUJFJA"
      }
    },
    {
      "cell_type": "code",
      "source": [
        "!pip install pdfplumber\n",
        "!pip install PyPDF2\n",
        "!pip install pdfplumber -q"
      ],
      "metadata": {
        "id": "4LHJ-mJ_fXyw"
      },
      "execution_count": null,
      "outputs": []
    }
  ],
  "metadata": {
    "accelerator": "GPU",
    "colab": {
      "collapsed_sections": [],
      "name": "OCR NLP",
      "provenance": []
    },
    "kernelspec": {
      "display_name": "Python 3",
      "name": "python3"
    }
  },
  "nbformat": 4,
  "nbformat_minor": 0
}
